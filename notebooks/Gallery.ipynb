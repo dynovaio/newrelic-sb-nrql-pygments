{
 "cells": [
  {
   "attachments": {},
   "cell_type": "markdown",
   "id": "3a15b89a-e3cd-4e2f-9eac-16d62a518663",
   "metadata": {},
   "source": [
    "# Gallery"
   ]
  },
  {
   "attachments": {},
   "cell_type": "markdown",
   "id": "f6ad37da-0854-4fff-abc0-a85b033faea7",
   "metadata": {},
   "source": [
    "> This notebook is a gallery of interesting and useful NRQL queries that you can use to explore your New Relic data."
   ]
  },
  {
   "cell_type": "markdown",
   "id": "eb3c5152",
   "metadata": {},
   "source": [
    "## Queries"
   ]
  },
  {
   "cell_type": "markdown",
   "id": "ec9fb797",
   "metadata": {},
   "source": [
    "### Example 1\n",
    "\n",
    "How to write commentaries in NRQL.\n"
   ]
  },
  {
   "cell_type": "markdown",
   "id": "399cf68f",
   "metadata": {
    "vscode": {
     "languageId": "plaintext"
    }
   },
   "source": [
    "#### Input"
   ]
  },
  {
   "cell_type": "markdown",
   "id": "d5e88416",
   "metadata": {},
   "source": [
    "<pre>\n",
    "```nrql\n",
    "-- single line comment\n",
    "\n",
    "// single line comment\n",
    "\n",
    "/*\n",
    "    multi-line\n",
    "    comment\n",
    "*/\n",
    "```\n",
    "</pre>\n"
   ]
  },
  {
   "cell_type": "markdown",
   "id": "1c5cf550",
   "metadata": {},
   "source": [
    "#### Output\n"
   ]
  },
  {
   "cell_type": "markdown",
   "id": "434c1c39",
   "metadata": {},
   "source": [
    "```nrql\n",
    "-- single line comment\n",
    "\n",
    "// single line comment\n",
    "\n",
    "/*\n",
    "    multi-line\n",
    "    comment\n",
    "*/\n",
    "```\n"
   ]
  },
  {
   "cell_type": "markdown",
   "id": "8f86a5e9",
   "metadata": {},
   "source": [
    "### Example 2\n",
    "\n",
    "How to write commentaries inside NRQL queries.\n"
   ]
  },
  {
   "cell_type": "markdown",
   "id": "785db0d0",
   "metadata": {},
   "source": [
    "#### Input\n"
   ]
  },
  {
   "cell_type": "markdown",
   "id": "0e06e312",
   "metadata": {},
   "source": [
    "<pre>\n",
    "```nrql\n",
    "SHOW EVENT TYPES /* sample intermediate multiline comment */ \n",
    "SINCE\n",
    "    1 day ago\n",
    "UNTIL\n",
    "    NOW\n",
    "```\n",
    "</pre>\n"
   ]
  },
  {
   "cell_type": "markdown",
   "id": "abcf2d54",
   "metadata": {},
   "source": [
    "#### Output\n"
   ]
  },
  {
   "cell_type": "markdown",
   "id": "e67d9509",
   "metadata": {},
   "source": [
    "```nrql\n",
    "SHOW EVENT TYPES /* sample intermediate multiline comment */ \n",
    "SINCE\n",
    "    1 day ago\n",
    "UNTIL\n",
    "    NOW\n",
    "```"
   ]
  },
  {
   "cell_type": "markdown",
   "id": "eb757ca9",
   "metadata": {},
   "source": [
    "### Example 3\n",
    "\n",
    "Get all event types in your account."
   ]
  },
  {
   "cell_type": "markdown",
   "id": "86051920",
   "metadata": {},
   "source": [
    "#### Input"
   ]
  },
  {
   "cell_type": "markdown",
   "id": "86ee0be2",
   "metadata": {},
   "source": [
    "<pre>\n",
    "```nrql\n",
    "-- Show all event types\n",
    "SHOW EVENT TYPES\n",
    "```\n",
    "</pre>"
   ]
  },
  {
   "cell_type": "markdown",
   "id": "2f2b0b81",
   "metadata": {},
   "source": [
    "#### Output"
   ]
  },
  {
   "cell_type": "markdown",
   "id": "ddada968",
   "metadata": {},
   "source": [
    "```nrql\n",
    "-- Show all event types\n",
    "SHOW EVENT TYPES\n",
    "```"
   ]
  },
  {
   "cell_type": "markdown",
   "id": "fb4e321b",
   "metadata": {},
   "source": [
    "### Example 4\n",
    "\n",
    "Get latest actionName in uppercase.\n"
   ]
  },
  {
   "cell_type": "markdown",
   "id": "169e486b",
   "metadata": {},
   "source": [
    "#### Input"
   ]
  },
  {
   "cell_type": "markdown",
   "id": "bdd25c79",
   "metadata": {},
   "source": [
    "<pre>\n",
    "```nrql\n",
    "FROM\n",
    "    PageAction\n",
    "SELECT\n",
    "    latest(upper(actionName))\n",
    "WHERE\n",
    "    upper(actionName) = upper('acmePageRenderedEvent') OR upper(actionName) = upper('SubmitLogin')\n",
    "FACET\n",
    "    concat(actionName, ':', upper(actionName))\n",
    "```\n",
    "</pre>"
   ]
  },
  {
   "cell_type": "markdown",
   "id": "d7f93b24",
   "metadata": {},
   "source": [
    "#### Output"
   ]
  },
  {
   "cell_type": "markdown",
   "id": "84a34d19",
   "metadata": {},
   "source": [
    "```nrql\n",
    "FROM\n",
    "    PageAction\n",
    "SELECT\n",
    "    latest(upper(actionName))\n",
    "WHERE\n",
    "    upper(actionName) = upper('acmePageRenderedEvent') OR upper(actionName) = upper('SubmitLogin')\n",
    "FACET\n",
    "    concat(actionName, ':', upper(actionName))\n",
    "```"
   ]
  },
  {
   "cell_type": "markdown",
   "id": "eedc2efb",
   "metadata": {},
   "source": [
    "### Example 5\n",
    "\n",
    "Get all page views in the last per day in the last 7 days."
   ]
  },
  {
   "cell_type": "markdown",
   "id": "bfb0c5f5",
   "metadata": {},
   "source": [
    "#### Input"
   ]
  },
  {
   "cell_type": "markdown",
   "id": "b814dd85",
   "metadata": {},
   "source": [
    "<pre>\n",
    "```nrql\n",
    "FROM\n",
    "    PageView\n",
    "SELECT\n",
    "    count(*)\n",
    "TIMESERIES\n",
    "    1 day \n",
    "WITH TIMEZONE \n",
    "    'Europe/London'\n",
    "SINCE\n",
    "    4 week ago\n",
    "UNTIL\n",
    "    today\n",
    "```\n",
    "</pre>"
   ]
  },
  {
   "cell_type": "markdown",
   "id": "b2b5224b",
   "metadata": {},
   "source": [
    "#### Output"
   ]
  },
  {
   "cell_type": "markdown",
   "id": "d1983c07",
   "metadata": {},
   "source": [
    "```nrql\n",
    "FROM\n",
    "    PageView\n",
    "SELECT\n",
    "    count(*)\n",
    "TIMESERIES\n",
    "    1 day \n",
    "WITH TIMEZONE \n",
    "    'Europe/London'\n",
    "SINCE\n",
    "    4 week ago\n",
    "UNTIL\n",
    "    today\n",
    "```"
   ]
  },
  {
   "cell_type": "markdown",
   "id": "bbe94f51",
   "metadata": {},
   "source": [
    "### Example 6\n",
    "\n",
    "Get average response time in milliseconds by url and response code each 5 minutes in the last 24 hours."
   ]
  },
  {
   "cell_type": "markdown",
   "id": "63e09e06",
   "metadata": {
    "vscode": {
     "languageId": "plaintext"
    }
   },
   "source": [
    "#### Input"
   ]
  },
  {
   "cell_type": "markdown",
   "id": "ac708471",
   "metadata": {
    "vscode": {
     "languageId": "plaintext"
    }
   },
   "source": [
    "<pre>\n",
    "```nrql\n",
    "FROM\n",
    "    PageView\n",
    "WITH\n",
    "    duration * 1000 AS `duration.ms`,\n",
    "    capture(pageUrl, r'https://(?P<baseUrl>.*.com)/.+') AS `url.domain`\n",
    "SELECT\n",
    "    average(`duration.ms`) AS 'Average Response Time (ms)',\n",
    "WHERE\n",
    "    app.name = 'My Application' AND \n",
    "    duration > 0\n",
    "FACET\n",
    "    `url.domain`,\n",
    "    CASES(\n",
    "        numeric(`http.statusCode`) < 400 AS 'Success',\n",
    "        numeric(`http.statusCode`) < 500 AS 'Client Error',\n",
    "        numeric(`http.statusCode`) < 600 AS 'Server Error', \n",
    "    ) AS 'Status'\n",
    "TIMESERIES\n",
    "    5 minutes\n",
    "SINCE\n",
    "    24 hours ago\n",
    "WITH TIMEZONE\n",
    "    'America/New_York'\n",
    "COMPARE WITH\n",
    "    1 week ago\n",
    "```\n",
    "\n",
    "</pre>"
   ]
  },
  {
   "cell_type": "markdown",
   "id": "59659243",
   "metadata": {},
   "source": [
    "#### Output"
   ]
  },
  {
   "cell_type": "markdown",
   "id": "2c572008",
   "metadata": {},
   "source": [
    "```nrql\n",
    "FROM\n",
    "    PageView\n",
    "WITH\n",
    "    duration * 1000 AS `duration.ms`,\n",
    "    capture(pageUrl, r'https://(?P<baseUrl>.*.com)/.+') AS `url.domain`\n",
    "SELECT\n",
    "    average(`duration.ms`) AS 'Average Response Time (ms)',\n",
    "WHERE\n",
    "    app.name = 'My Application' AND \n",
    "    duration > 0\n",
    "FACET\n",
    "    `url.domain`,\n",
    "    CASES(\n",
    "        numeric(`http.statusCode`) < 400 AS 'Success',\n",
    "        numeric(`http.statusCode`) < 500 AS 'Client Error',\n",
    "        numeric(`http.statusCode`) < 600 AS 'Server Error', \n",
    "    ) AS 'Status'\n",
    "TIMESERIES\n",
    "    5 minutes\n",
    "SINCE\n",
    "    24 hours ago\n",
    "WITH TIMEZONE\n",
    "    'America/New_York'\n",
    "COMPARE WITH\n",
    "    1 week ago\n",
    "```\n"
   ]
  },
  {
   "cell_type": "markdown",
   "id": "f370cff6",
   "metadata": {},
   "source": [
    "### Example 7\n",
    "\n",
    "Delete metrics"
   ]
  },
  {
   "cell_type": "markdown",
   "id": "baa4eb24",
   "metadata": {},
   "source": [
    "#### Input"
   ]
  },
  {
   "cell_type": "markdown",
   "id": "e3dc75be",
   "metadata": {
    "vscode": {
     "languageId": "plaintext"
    }
   },
   "source": [
    "<pre>\n",
    "```nrql\n",
    "DELETE FROM\n",
    "    Metric\n",
    "WHERE\n",
    "    metricName = 'newrelic.goldenmetrics.infra.kubernetes_pod.podScheduled'\n",
    "```\n",
    "</pre>"
   ]
  },
  {
   "cell_type": "markdown",
   "id": "82ab2ed9",
   "metadata": {},
   "source": [
    "#### Output"
   ]
  },
  {
   "cell_type": "markdown",
   "id": "8cd282dc",
   "metadata": {
    "vscode": {
     "languageId": "plaintext"
    }
   },
   "source": [
    "```nrql\n",
    "DELETE FROM\n",
    "    Metric\n",
    "WHERE\n",
    "    metricName = 'newrelic.goldenmetrics.infra.kubernetes_pod.podScheduled'\n",
    "```"
   ]
  },
  {
   "cell_type": "markdown",
   "id": "d8f5f401",
   "metadata": {},
   "source": [
    "### Example 8\n",
    "\n",
    "Use `mapKeys` and `jsparse` to extract the keys from a JSON object and parse them into a map."
   ]
  },
  {
   "cell_type": "markdown",
   "id": "3454445b",
   "metadata": {},
   "source": [
    "#### Input"
   ]
  },
  {
   "cell_type": "markdown",
   "id": "6c8b00c7",
   "metadata": {},
   "source": [
    "<pre>\n",
    "```nrql\n",
    "WITH \n",
    "    '{\"value1\": \"test\", \"value2\": {\"nestedValue1\": [1, 2, 3], \"nestedValue2\": 100}}' AS jsonString\n",
    "SELECT \n",
    "    mapKeys(jparse(jsonString)) AS keys\n",
    "```\n",
    "</pre>"
   ]
  },
  {
   "cell_type": "markdown",
   "id": "3e7bfbf2",
   "metadata": {
    "vscode": {
     "languageId": "plaintext"
    }
   },
   "source": [
    "#### Output"
   ]
  },
  {
   "cell_type": "markdown",
   "id": "99199a09",
   "metadata": {},
   "source": [
    "```nrql\n",
    "WITH \n",
    "    '{\"value1\": \"test\", \"value2\": {\"nestedValue1\": [1, 2, 3], \"nestedValue2\": 100}}' AS jsonString\n",
    "SELECT \n",
    "    mapKeys(jparse(jsonString)) AS keys\n",
    "```"
   ]
  },
  {
   "cell_type": "markdown",
   "id": "afa4a7b3",
   "metadata": {},
   "source": [
    "### Example 9\n",
    "\n",
    "Sample query using the predict feature to forecast future values based on historical data."
   ]
  },
  {
   "cell_type": "markdown",
   "id": "e9f26f78",
   "metadata": {},
   "source": [
    "#### Input"
   ]
  },
  {
   "cell_type": "markdown",
   "id": "b35c7bc7",
   "metadata": {},
   "source": [
    "<pre>\n",
    "```nrql\n",
    "FROM\n",
    "    Transaction\n",
    "SELECT\n",
    "    count(*)\n",
    "WHERE\n",
    "    error IS TRUE TIMESERIES\n",
    "PREDICT \n",
    "    holtwinters(seasonality: AUTO, alpha: 0.2) \n",
    "    BY\n",
    "        1 hour\n",
    "    USING \n",
    "        2 hours\n",
    "```\n",
    "</pre>"
   ]
  },
  {
   "cell_type": "markdown",
   "id": "bd997efb",
   "metadata": {},
   "source": [
    "#### Output"
   ]
  },
  {
   "cell_type": "markdown",
   "id": "fffc0705",
   "metadata": {},
   "source": [
    "```nrql\n",
    "FROM\n",
    "    Transaction\n",
    "SELECT\n",
    "    count(*)\n",
    "WHERE\n",
    "    error IS TRUE TIMESERIES\n",
    "PREDICT \n",
    "    holtwinters(seasonality: AUTO, alpha: 0.2) \n",
    "    BY\n",
    "        1 hour\n",
    "    USING \n",
    "        2 hours\n",
    "```"
   ]
  }
 ],
 "metadata": {
  "kernelspec": {
   "display_name": ".venv",
   "language": "python",
   "name": "python3"
  },
  "language_info": {
   "codemirror_mode": {
    "name": "ipython",
    "version": 3
   },
   "file_extension": ".py",
   "mimetype": "text/x-python",
   "name": "python",
   "nbconvert_exporter": "python",
   "pygments_lexer": "ipython3",
   "version": "3.12.7"
  }
 },
 "nbformat": 4,
 "nbformat_minor": 5
}
