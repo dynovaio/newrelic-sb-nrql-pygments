{
 "cells": [
  {
   "attachments": {},
   "cell_type": "markdown",
   "id": "3a15b89a-e3cd-4e2f-9eac-16d62a518663",
   "metadata": {},
   "source": [
    "# Gallery"
   ]
  },
  {
   "attachments": {},
   "cell_type": "markdown",
   "id": "f6ad37da-0854-4fff-abc0-a85b033faea7",
   "metadata": {},
   "source": [
    "> This notebook is a gallery of interesting and useful NRQL queries that you can use to explore your New Relic data."
   ]
  },
  {
   "cell_type": "markdown",
   "id": "eb3c5152",
   "metadata": {},
   "source": [
    "## Comments"
   ]
  },
  {
   "cell_type": "markdown",
   "id": "399cf68f",
   "metadata": {
    "vscode": {
     "languageId": "plaintext"
    }
   },
   "source": [
    "**Input**:\n",
    "\n",
    "<pre>\n",
    "```nrql\n",
    "-- single line comment\n",
    "\n",
    "// single line comment\n",
    "\n",
    "/*\n",
    "    multi-line\n",
    "    comment\n",
    "*/\n",
    "```\n",
    "</pre>\n",
    "\n",
    "\n",
    "**Output**:\n",
    "\n",
    "```nrql\n",
    "-- single line comment\n",
    "\n",
    "// single line comment\n",
    "\n",
    "/*\n",
    "    multi-line\n",
    "    comment\n",
    "*/\n",
    "```\n"
   ]
  },
  {
   "cell_type": "markdown",
   "id": "7774131d",
   "metadata": {},
   "source": [
    "## Base queries"
   ]
  },
  {
   "cell_type": "markdown",
   "id": "86051920",
   "metadata": {},
   "source": [
    "**Input**:\n",
    "\n",
    "<pre>\n",
    "```nrql\n",
    "-- Show all event types\n",
    "SHOW EVENT TYPES\n",
    "```\n",
    "</pre>\n",
    "\n",
    "\n",
    "**Output**:\n",
    "\n",
    "```nrql\n",
    "-- Show all event types\n",
    "SHOW EVENT TYPES\n",
    "```\n"
   ]
  },
  {
   "cell_type": "markdown",
   "id": "169e486b",
   "metadata": {},
   "source": [
    "**Input**:\n",
    "\n",
    "<pre>\n",
    "```nrql\n",
    "FROM\n",
    "    PageAction\n",
    "SELECT\n",
    "    latest(upper(actionName))\n",
    "WHERE\n",
    "    upper(actionName) = upper('acmePageRenderedEvent') OR upper(actionName) = upper('SubmitLogin')\n",
    "FACET\n",
    "    concat(actionName, ':', upper(actionName))\n",
    "```\n",
    "</pre>\n",
    "\n",
    "\n",
    "**Output**:\n",
    "\n",
    "```nrql\n",
    "FROM\n",
    "    PageAction\n",
    "SELECT\n",
    "    latest(upper(actionName))\n",
    "WHERE\n",
    "    upper(actionName) = upper('acmePageRenderedEvent') OR upper(actionName) = upper('SubmitLogin')\n",
    "FACET\n",
    "    concat(actionName, ':', upper(actionName))\n",
    "```\n"
   ]
  },
  {
   "cell_type": "markdown",
   "id": "bfb0c5f5",
   "metadata": {},
   "source": [
    "**Input**:\n",
    "\n",
    "<pre>\n",
    "```nrql\n",
    "FROM\n",
    "    PageView\n",
    "SELECT\n",
    "    count(*)\n",
    "TIMESERIES\n",
    "    1 day \n",
    "WITH TIMEZONE \n",
    "    'Europe/London'\n",
    "SINCE\n",
    "    4 week ago\n",
    "UNTIL\n",
    "    today\n",
    "```\n",
    "</pre>\n",
    "\n",
    "\n",
    "**Output**:\n",
    "\n",
    "```nrql\n",
    "FROM\n",
    "    PageView\n",
    "SELECT\n",
    "    count(*)\n",
    "TIMESERIES\n",
    "    1 day \n",
    "WITH TIMEZONE \n",
    "    'Europe/London'\n",
    "SINCE\n",
    "    4 week ago\n",
    "UNTIL\n",
    "    today\n",
    "```\n"
   ]
  },
  {
   "cell_type": "markdown",
   "id": "2c572008",
   "metadata": {},
   "source": [
    "```nrql\n",
    "-- single line comment\n",
    "// single line comment\n",
    "/*\n",
    "    multi-line comment\n",
    "*/\n",
    "FROM\n",
    "    Log\n",
    "WITH\n",
    "    duration * 1000 AS `millisec`,\n",
    "    capture(pageUrl, r'https://(?P<baseUrl>.*.com)/.+') AS `url.domain`\n",
    "SELECT\n",
    "    average(duration) AS avg_duration\n",
    "WHERE\n",
    "    app.name = 'My Application' AND \n",
    "    duration > 0\n",
    "FACET\n",
    "    CASES(\n",
    "        numeric(http.statusCode) < 400 AS 'Success',\n",
    "        numeric(http.statusCode) < 500 AS 'Client Error',\n",
    "        numeric(http.statusCode) < 600 AS 'Server Error', \n",
    "    ) AS 'Status'\n",
    "TIMESERIES\n",
    "    2.5 minutes\n",
    "SINCE\n",
    "    '2024-04-08 00:12:00'\n",
    "UNTIL\n",
    "    24 hours ago\n",
    "WITH TIMEZONE\n",
    "    'America/New_York'\n",
    "COMPARE WITH\n",
    "    1 week ago\n",
    "```\n"
   ]
  },
  {
   "cell_type": "markdown",
   "id": "ac18388f",
   "metadata": {},
   "source": [
    "```nrql\n",
    "-- Example NRQL query\n",
    "FROM\n",
    "    Log\n",
    "WITH\n",
    "    numeric(http.statusCode) AS `sb.statusCode`,\n",
    "    numeric(timespan) * 1000 AS `sb.duration`,\n",
    "    capture(pageUrl, r'https://(?P<domain>[^/]+)/.+') AS `sb.domain`\n",
    "SELECT\n",
    "    average(`sb.duration`) AS 'Avg. Duration (s)'\n",
    "WHERE\n",
    "    entity.name = 'Sample Application' AND \n",
    "    `sb.duration` > 0\n",
    "FACET\n",
    "    CASES(\n",
    "        `sb.statusCode` < 400 AS 'Success',\n",
    "        `sb.statusCode` < 500 AS 'Client Error',\n",
    "        `sb.statusCode` < 600 AS 'Server Error'\n",
    "    ) AS 'Status',\n",
    "    `sb.domain` AS 'Domain'\n",
    "TIMESERIES\n",
    "    3 hours\n",
    "SINCE\n",
    "    '2024-10-01 00:00:00'\n",
    "UNTIL\n",
    "    '2024-11-01 00:00:00'\n",
    "WITH TIMEZONE\n",
    "    'America/LIMA'\n",
    "COMPARE WITH\n",
    "    1 month ago\n",
    "```"
   ]
  }
 ],
 "metadata": {
  "kernelspec": {
   "display_name": ".venv",
   "language": "python",
   "name": "python3"
  },
  "language_info": {
   "codemirror_mode": {
    "name": "ipython",
    "version": 3
   },
   "file_extension": ".py",
   "mimetype": "text/x-python",
   "name": "python",
   "nbconvert_exporter": "python",
   "pygments_lexer": "ipython3",
   "version": "3.12.7"
  }
 },
 "nbformat": 4,
 "nbformat_minor": 5
}
