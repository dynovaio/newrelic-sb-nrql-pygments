{
 "cells": [
  {
   "cell_type": "code",
   "execution_count": null,
   "id": "408babb0-cbc3-4961-85f3-8669d2754fba",
   "metadata": {},
   "outputs": [],
   "source": [
    "# | default_exp builtins"
   ]
  },
  {
   "attachments": {},
   "cell_type": "markdown",
   "id": "3a15b89a-e3cd-4e2f-9eac-16d62a518663",
   "metadata": {},
   "source": [
    "# Built-ins"
   ]
  },
  {
   "attachments": {},
   "cell_type": "markdown",
   "id": "f6ad37da-0854-4fff-abc0-a85b033faea7",
   "metadata": {},
   "source": [
    "> Built-in keywords and functions for NRQL"
   ]
  },
  {
   "attachments": {},
   "cell_type": "markdown",
   "id": "0686df48-eba4-49e2-b197-5b542b74dd99",
   "metadata": {},
   "source": [
    "## Contants"
   ]
  },
  {
   "cell_type": "markdown",
   "id": "6903cef0",
   "metadata": {},
   "source": [
    "### Keywords"
   ]
  },
  {
   "cell_type": "code",
   "execution_count": null,
   "id": "f27c2e3c",
   "metadata": {},
   "outputs": [],
   "source": [
    "# | export\n",
    "REQUIRED_KEYWORDS = [\n",
    "    \"FROM\",\n",
    "    \"SELECT\",\n",
    "]"
   ]
  },
  {
   "cell_type": "code",
   "execution_count": null,
   "id": "d128d043",
   "metadata": {},
   "outputs": [],
   "source": [
    "# | export\n",
    "KEYWORDS = [\n",
    "    *REQUIRED_KEYWORDS,\n",
    "    \"AND\",\n",
    "    \"AS\",\n",
    "    \"AUTO\",\n",
    "    \"BY\",\n",
    "    \"CASES\",\n",
    "    \"COMPARE\",\n",
    "    \"EVENT\",\n",
    "    \"EXTRAPOLATE\",\n",
    "    \"FACET\",\n",
    "    \"INNER\",\n",
    "    \"JOIN\",\n",
    "    \"LEFT\",\n",
    "    \"LIMIT\",\n",
    "    \"MAX\",\n",
    "    \"METRIC_FORMAT\",\n",
    "    \"OFFSET\",\n",
    "    \"OR\",\n",
    "    \"ORDER\",\n",
    "    \"SHOW\",\n",
    "    \"SINCE\",\n",
    "    \"SLIDE\",\n",
    "    \"TIMESERIES\",\n",
    "    \"TIMEZONE\",\n",
    "    \"TYPES\",\n",
    "    \"UNTIL\",\n",
    "    \"WHERE\",\n",
    "    \"WITH\",\n",
    "]"
   ]
  },
  {
   "cell_type": "code",
   "execution_count": null,
   "id": "3dc146f6",
   "metadata": {},
   "outputs": [],
   "source": [
    "# | export\n",
    "EXTENDED_KEYWORDS = [\n",
    "    *KEYWORDS,\n",
    "    \"USING\",\n",
    "]"
   ]
  },
  {
   "cell_type": "code",
   "execution_count": null,
   "id": "5c5258e8",
   "metadata": {},
   "outputs": [],
   "source": [
    "# | export\n",
    "FUNCTIONS = [\n",
    "    \"accountId\",\n",
    "    \"aggregationendtime\",\n",
    "    \"allColumnSearch\",\n",
    "    \"aparse\",\n",
    "    \"apdex\",\n",
    "    \"average\",\n",
    "    \"blob\",\n",
    "    \"bucketPercentile\",\n",
    "    \"buckets\",\n",
    "    \"bytecountestimate\",\n",
    "    \"capture\",\n",
    "    \"cardinality\",\n",
    "    \"cdfPercentage\",\n",
    "    \"cidrAddress\",\n",
    "    \"concat\",\n",
    "    \"convert\",\n",
    "    \"count\",\n",
    "    \"dateOf\",\n",
    "    \"dayOfMonthOf\",\n",
    "    \"daysInMonthOf\",\n",
    "    \"decode\",\n",
    "    \"derivative\",\n",
    "    \"dimensions\",\n",
    "    \"earliest\",\n",
    "    \"encode\",\n",
    "    \"eventType\",\n",
    "    \"filter\",\n",
    "    \"function\",\n",
    "    \"funnel\",\n",
    "    \"getCdfCount\",\n",
    "    \"getField\",\n",
    "    \"histogram\",\n",
    "    \"hourOf\",\n",
    "    \"if\",\n",
    "    \"jparse\",\n",
    "    \"keyset\",\n",
    "    \"latest\",\n",
    "    \"latestrate\",\n",
    "    \"length\",\n",
    "    \"lookup\",\n",
    "    \"lower\",\n",
    "    \"mapKeys\",\n",
    "    \"mapValues\",\n",
    "    \"max\",\n",
    "    \"median\",\n",
    "    \"min\",\n",
    "    \"minuteOf\",\n",
    "    \"mod\",\n",
    "    \"monthOf\",\n",
    "    \"numeric\",\n",
    "    \"percentage\",\n",
    "    \"percentile\",\n",
    "    \"position\",\n",
    "    \"predictLinear\",\n",
    "    \"quarterOf\",\n",
    "    \"rate\",\n",
    "    \"round\",\n",
    "    \"stddev\",\n",
    "    \"stdvar\",\n",
    "    \"string\",\n",
    "    \"substring\",\n",
    "    \"sum\",\n",
    "    \"toDatetime\",\n",
    "    \"toTimestamp\",\n",
    "    \"tuple\",\n",
    "    \"uniqueCount\",\n",
    "    \"uniques\",\n",
    "    \"upper\",\n",
    "    \"weekdayOf\",\n",
    "    \"weekOf\",\n",
    "    \"yearOf\",\n",
    "]"
   ]
  },
  {
   "cell_type": "code",
   "execution_count": null,
   "id": "005c76ed",
   "metadata": {},
   "outputs": [],
   "source": [
    "# | export\n",
    "OPERATORS = [\n",
    "    r\"+\",\n",
    "    r\"/\",\n",
    "    r\"=\",\n",
    "    r\"!=\",\n",
    "    r\">\",\n",
    "    r\">=\",\n",
    "    r\"<\",\n",
    "    r\"<=\",\n",
    "    r\"*\",\n",
    "    r\"-\",\n",
    "]"
   ]
  },
  {
   "cell_type": "code",
   "execution_count": null,
   "id": "fb73082d",
   "metadata": {},
   "outputs": [],
   "source": [
    "# | export\n",
    "WORD_OPERATORS = [\n",
    "    \"AND\",\n",
    "    \"IN\",\n",
    "    \"LIKE\",\n",
    "    \"OR\",\n",
    "    \"RLIKE\",\n",
    "    \"AT\",\n",
    "]"
   ]
  }
 ],
 "metadata": {
  "kernelspec": {
   "display_name": ".venv",
   "language": "python",
   "name": "python3"
  },
  "language_info": {
   "codemirror_mode": {
    "name": "ipython",
    "version": 3
   },
   "file_extension": ".py",
   "mimetype": "text/x-python",
   "name": "python",
   "nbconvert_exporter": "python",
   "pygments_lexer": "ipython3",
   "version": "3.13.2"
  }
 },
 "nbformat": 4,
 "nbformat_minor": 5
}
