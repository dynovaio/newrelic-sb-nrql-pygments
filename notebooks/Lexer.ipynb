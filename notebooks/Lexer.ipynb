{
 "cells": [
  {
   "cell_type": "code",
   "execution_count": null,
   "id": "408babb0-cbc3-4961-85f3-8669d2754fba",
   "metadata": {},
   "outputs": [],
   "source": [
    "# | default_exp lexer"
   ]
  },
  {
   "attachments": {},
   "cell_type": "markdown",
   "id": "3a15b89a-e3cd-4e2f-9eac-16d62a518663",
   "metadata": {},
   "source": [
    "# Lexer"
   ]
  },
  {
   "attachments": {},
   "cell_type": "markdown",
   "id": "f6ad37da-0854-4fff-abc0-a85b033faea7",
   "metadata": {},
   "source": [
    "> NRQL Lexer for Pygments"
   ]
  },
  {
   "attachments": {},
   "cell_type": "markdown",
   "id": "ebdab5d3-02e8-4113-ae0c-7da98154bd54",
   "metadata": {},
   "source": [
    "## Imports"
   ]
  },
  {
   "attachments": {},
   "cell_type": "markdown",
   "id": "290e9370-62e3-4668-ad68-3a6aad74737e",
   "metadata": {},
   "source": [
    "Python modules"
   ]
  },
  {
   "cell_type": "code",
   "execution_count": null,
   "id": "a52ab5c6-5620-4e22-83d2-e2d51e806aa3",
   "metadata": {},
   "outputs": [],
   "source": [
    "# | export\n",
    "import re"
   ]
  },
  {
   "attachments": {},
   "cell_type": "markdown",
   "id": "6620ae2b-d725-4e3c-97a8-296337acf35d",
   "metadata": {},
   "source": [
    "Third-party modules"
   ]
  },
  {
   "cell_type": "code",
   "execution_count": null,
   "id": "71bfcc29-de70-4bc7-8282-d236431bb3d1",
   "metadata": {},
   "outputs": [],
   "source": [
    "# | export\n",
    "from pygments.lexer import RegexLexer, words\n",
    "from pygments.token import (\n",
    "    Comment,\n",
    "    Keyword,\n",
    "    Name,\n",
    "    Number,\n",
    "    Operator,\n",
    "    Punctuation,\n",
    "    String,\n",
    "    Text,\n",
    ")"
   ]
  },
  {
   "attachments": {},
   "cell_type": "markdown",
   "id": "b2714e3d-e338-4fbe-b5e0-e455ab580534",
   "metadata": {},
   "source": [
    "`pygments_sb_nrql` module"
   ]
  },
  {
   "cell_type": "code",
   "execution_count": null,
   "id": "4c9a503e-118d-47e3-85d0-8e2264679446",
   "metadata": {},
   "outputs": [],
   "source": [
    "# | export\n",
    "from pygments_sb_nrql.builtins import (\n",
    "    EXTENDED_KEYWORDS,\n",
    "    FUNCTIONS,\n",
    "    OPERATORS,\n",
    "    WORD_OPERATORS,\n",
    ")"
   ]
  },
  {
   "attachments": {},
   "cell_type": "markdown",
   "id": "0686df48-eba4-49e2-b197-5b542b74dd99",
   "metadata": {},
   "source": [
    "## Classes"
   ]
  },
  {
   "cell_type": "code",
   "execution_count": null,
   "id": "d128d043",
   "metadata": {},
   "outputs": [],
   "source": [
    "# | export\n",
    "\n",
    "\n",
    "class NrqlLexer(RegexLexer):\n",
    "    name = \"NRQL\"\n",
    "    aliases = [\n",
    "        \"nrql\",\n",
    "    ]\n",
    "    mimetypes = [\"text/x-nrql\"]\n",
    "\n",
    "    flags = re.IGNORECASE\n",
    "    tokens = {\n",
    "        \"root\": [\n",
    "            (\n",
    "                r\"\\s+\",\n",
    "                Text,\n",
    "            ),\n",
    "            (\n",
    "                r\"--.*?\\n\",\n",
    "                Comment.Single,\n",
    "            ),\n",
    "            (\n",
    "                r\"//.*?\\n\",\n",
    "                Comment.Single,\n",
    "            ),\n",
    "            (\n",
    "                r\"/\\*\",\n",
    "                Comment.Multiline,\n",
    "                \"multiline-comments\",\n",
    "            ),\n",
    "            (\n",
    "                r\"(\" + \"|\".join(EXTENDED_KEYWORDS) + r\")\\b\",\n",
    "                Keyword,\n",
    "            ),\n",
    "            (\n",
    "                r\"(\" + \"|\".join(FUNCTIONS) + r\")\\b\",\n",
    "                Name.Function,\n",
    "            ),\n",
    "            (\n",
    "                # r\"(\" + \"|\".join(OPERATORS) + r\")\\b\",\n",
    "                words(OPERATORS),\n",
    "                Operator,\n",
    "            ),\n",
    "            (\n",
    "                r\"(\" + \"|\".join(WORD_OPERATORS) + r\")\\b\",\n",
    "                Operator.Word,\n",
    "            ),\n",
    "            (\n",
    "                r\"([0-9]*\\.[0-9]*|[0-9]+)(e[+-]?[0-9]+)?\",\n",
    "                Number.Float,\n",
    "            ),\n",
    "            (\n",
    "                r\"[0-9]+\",\n",
    "                Number.Integer,\n",
    "            ),\n",
    "            (\n",
    "                r\"'(''|[^'])*'\",\n",
    "                String.Single,\n",
    "            ),\n",
    "            (\n",
    "                r\"r'(''|[^'])*'\",\n",
    "                String.Regex,\n",
    "            ),\n",
    "            (\n",
    "                r\"`([^`])*`\",\n",
    "                String.Backtick,\n",
    "            ),\n",
    "            (\n",
    "                r\"[a-zA-Z]+([a-zA-Z0-9_\\.]*)([a-zA-Z0-9_]*)\",\n",
    "                Name,\n",
    "            ),\n",
    "            (\n",
    "                r\"`[a-zA-Z0-9:_]+([a-zA-Z0-9:_\\.]*)([a-zA-Z0-9:_]*)`\",\n",
    "                Name,\n",
    "            ),\n",
    "            (\n",
    "                r\"[;:()\\[\\],\\.]\",\n",
    "                Punctuation,\n",
    "            ),\n",
    "        ],\n",
    "        \"multiline-comments\": [\n",
    "            (r\"/\\*\", Comment.Multiline, \"multiline-comments\"),\n",
    "            (r\"\\*/\", Comment.Multiline, \"#pop\"),\n",
    "            (r\"[^/\\*]+\", Comment.Multiline),\n",
    "            (r\"[/*]\", Comment.Multiline),\n",
    "        ],\n",
    "    }"
   ]
  }
 ],
 "metadata": {
  "kernelspec": {
   "display_name": ".venv",
   "language": "python",
   "name": "python3"
  },
  "language_info": {
   "codemirror_mode": {
    "name": "ipython",
    "version": 3
   },
   "file_extension": ".py",
   "mimetype": "text/x-python",
   "name": "python",
   "nbconvert_exporter": "python",
   "pygments_lexer": "ipython3",
   "version": "3.13.2"
  }
 },
 "nbformat": 4,
 "nbformat_minor": 5
}
