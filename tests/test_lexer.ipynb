{
 "cells": [
  {
   "cell_type": "markdown",
   "id": "0564ef12-de8d-4f0c-bbc2-c05177f8b013",
   "metadata": {
    "tags": []
   },
   "source": [
    "# Tests for `pygments_sb_nrql.lexer`"
   ]
  },
  {
   "cell_type": "markdown",
   "id": "d193382b-7c03-464a-a932-ce6853df717a",
   "metadata": {},
   "source": [
    "## Imports"
   ]
  },
  {
   "cell_type": "code",
   "execution_count": null,
   "id": "d05ae292",
   "metadata": {},
   "outputs": [],
   "source": [
    "import textwrap"
   ]
  },
  {
   "cell_type": "code",
   "execution_count": null,
   "id": "384600d0",
   "metadata": {},
   "outputs": [],
   "source": [
    "from pygments.token import Number, String"
   ]
  },
  {
   "cell_type": "code",
   "execution_count": null,
   "id": "22e161f3-84ab-48eb-b9b4-cd4509923be6",
   "metadata": {
    "tags": []
   },
   "outputs": [],
   "source": [
    "from pygments_sb_nrql.lexer import NrqlLexer"
   ]
  },
  {
   "cell_type": "markdown",
   "id": "0fd9c6ff-fd26-4569-bbb7-bef1bb95fb10",
   "metadata": {},
   "source": [
    "## Tests"
   ]
  },
  {
   "cell_type": "code",
   "execution_count": null,
   "id": "92bc705a-fdc2-4744-bc17-c3d971813f90",
   "metadata": {
    "tags": []
   },
   "outputs": [],
   "source": [
    "class TestNrqlLexer:\n",
    "    def assert_tokens_equal(self, text, expected, stack=None):\n",
    "        text = textwrap.dedent(text)\n",
    "        lexer = NrqlLexer()\n",
    "        if stack:\n",
    "            itokens = lexer.get_tokens_unprocessed(text, stack=stack)\n",
    "        else:\n",
    "            itokens = lexer.get_tokens_unprocessed(text)\n",
    "        assert list(itokens) == expected  # nosec\n",
    "\n",
    "    def assert_value_equal(self, text, expected):\n",
    "        self.assert_tokens_equal(text, [expected], stack=(\"root\",))\n",
    "\n",
    "    def assert_string_equal(self, text, tokens):\n",
    "        start = (0, String, '\"')\n",
    "        end = (len(text) - 1, String, '\"')\n",
    "        expected = [start, *tokens, end]\n",
    "        self.assert_tokens_equal(text, expected, stack=(\"root\",))\n",
    "\n",
    "    def test_float(self):\n",
    "        self.assert_value_equal(\"5.5\", (0, Number.Float, \"5.5\"))\n",
    "        self.assert_value_equal(\"5e3\", (0, Number.Float, \"5e3\"))\n",
    "        self.assert_value_equal(\"5E3\", (0, Number.Float, \"5E3\"))\n",
    "        self.assert_value_equal(\"5e-3\", (0, Number.Float, \"5e-3\"))\n",
    "        self.assert_value_equal(\"5E-3\", (0, Number.Float, \"5E-3\"))\n",
    "        self.assert_value_equal(\"5e+3\", (0, Number.Float, \"5e+3\"))\n",
    "        self.assert_value_equal(\"5E+3\", (0, Number.Float, \"5E+3\"))\n",
    "        self.assert_value_equal(\"5.1e3\", (0, Number.Float, \"5.1e3\"))\n",
    "        self.assert_value_equal(\"5.1E3\", (0, Number.Float, \"5.1E3\"))\n",
    "        self.assert_value_equal(\"5.1e-3\", (0, Number.Float, \"5.1e-3\"))\n",
    "        self.assert_value_equal(\"5.1E-3\", (0, Number.Float, \"5.1E-3\"))\n",
    "        self.assert_value_equal(\"5.1e+3\", (0, Number.Float, \"5.1e+3\"))\n",
    "        self.assert_value_equal(\"5.1E+3\", (0, Number.Float, \"5.1E+3\"))"
   ]
  },
  {
   "cell_type": "code",
   "execution_count": null,
   "id": "31c0ebfb",
   "metadata": {},
   "outputs": [],
   "source": []
  }
 ],
 "metadata": {
  "kernelspec": {
   "display_name": ".venv",
   "language": "python",
   "name": "python3"
  },
  "language_info": {
   "codemirror_mode": {
    "name": "ipython",
    "version": 3
   },
   "file_extension": ".py",
   "mimetype": "text/x-python",
   "name": "python",
   "nbconvert_exporter": "python",
   "pygments_lexer": "ipython3",
   "version": "3.12.7"
  }
 },
 "nbformat": 4,
 "nbformat_minor": 5
}
